{
 "cells": [
  {
   "cell_type": "code",
   "execution_count": 10,
   "id": "2bec564f",
   "metadata": {},
   "outputs": [],
   "source": [
    "import warnings\n",
    "warnings.filterwarnings(\"ignore\")\n",
    "import pandas as pd\n",
    "import numpy as np\n",
    "import os\n",
    "import cv2\n",
    "import matplotlib.pyplot as plt\n",
    "from sklearn.utils import shuffle\n",
    "from sklearn.model_selection import train_test_split\n",
    "from keras.utils import to_categorical\n",
    "import tensorflow as tf\n",
    "import tensorflow.keras as k\n",
    "from tensorflow.keras.layers import Dense, Conv2D, MaxPool2D, AveragePooling2D, Flatten, Dropout"
   ]
  },
  {
   "cell_type": "code",
   "execution_count": 11,
   "id": "a918539d",
   "metadata": {},
   "outputs": [],
   "source": [
    "df = pd.read_csv(\"train.csv\")"
   ]
  },
  {
   "cell_type": "code",
   "execution_count": 12,
   "id": "748c2614",
   "metadata": {},
   "outputs": [],
   "source": [
    "diagnosis_binary = {\n",
    "        0: 'No_DR',\n",
    "        1: 'DR',\n",
    "        2: 'DR',\n",
    "        3: 'DR',\n",
    "        4: 'DR'}\n",
    "\n",
    "diagnosis_classes = {\n",
    "    0: 'No_DR',\n",
    "    1: 'Mild',\n",
    "    2: 'Moderate',\n",
    "    3: 'Severe',\n",
    "    4: 'Proliferate_DR',\n",
    "}\n",
    "\n",
    "\n",
    "df[\"binary\"] = df[\"diagnosis\"].map(diagnosis_binary.get)\n",
    "df[\"type\"] = df[\"diagnosis\"].map(diagnosis_classes.get)"
   ]
  },
  {
   "cell_type": "code",
   "execution_count": 13,
   "id": "579c6f66",
   "metadata": {},
   "outputs": [
    {
     "data": {
      "text/html": [
       "<div>\n",
       "<style scoped>\n",
       "    .dataframe tbody tr th:only-of-type {\n",
       "        vertical-align: middle;\n",
       "    }\n",
       "\n",
       "    .dataframe tbody tr th {\n",
       "        vertical-align: top;\n",
       "    }\n",
       "\n",
       "    .dataframe thead th {\n",
       "        text-align: right;\n",
       "    }\n",
       "</style>\n",
       "<table border=\"1\" class=\"dataframe\">\n",
       "  <thead>\n",
       "    <tr style=\"text-align: right;\">\n",
       "      <th></th>\n",
       "      <th>id_code</th>\n",
       "      <th>diagnosis</th>\n",
       "      <th>binary</th>\n",
       "      <th>type</th>\n",
       "    </tr>\n",
       "  </thead>\n",
       "  <tbody>\n",
       "    <tr>\n",
       "      <th>0</th>\n",
       "      <td>000c1434d8d7</td>\n",
       "      <td>2</td>\n",
       "      <td>DR</td>\n",
       "      <td>Moderate</td>\n",
       "    </tr>\n",
       "    <tr>\n",
       "      <th>1</th>\n",
       "      <td>001639a390f0</td>\n",
       "      <td>4</td>\n",
       "      <td>DR</td>\n",
       "      <td>Proliferate_DR</td>\n",
       "    </tr>\n",
       "    <tr>\n",
       "      <th>2</th>\n",
       "      <td>0024cdab0c1e</td>\n",
       "      <td>1</td>\n",
       "      <td>DR</td>\n",
       "      <td>Mild</td>\n",
       "    </tr>\n",
       "    <tr>\n",
       "      <th>3</th>\n",
       "      <td>002c21358ce6</td>\n",
       "      <td>0</td>\n",
       "      <td>No_DR</td>\n",
       "      <td>No_DR</td>\n",
       "    </tr>\n",
       "    <tr>\n",
       "      <th>4</th>\n",
       "      <td>005b95c28852</td>\n",
       "      <td>0</td>\n",
       "      <td>No_DR</td>\n",
       "      <td>No_DR</td>\n",
       "    </tr>\n",
       "  </tbody>\n",
       "</table>\n",
       "</div>"
      ],
      "text/plain": [
       "        id_code  diagnosis binary            type\n",
       "0  000c1434d8d7          2     DR        Moderate\n",
       "1  001639a390f0          4     DR  Proliferate_DR\n",
       "2  0024cdab0c1e          1     DR            Mild\n",
       "3  002c21358ce6          0  No_DR           No_DR\n",
       "4  005b95c28852          0  No_DR           No_DR"
      ]
     },
     "execution_count": 13,
     "metadata": {},
     "output_type": "execute_result"
    }
   ],
   "source": [
    "df.head()"
   ]
  },
  {
   "cell_type": "code",
   "execution_count": 14,
   "id": "dcba0f45",
   "metadata": {},
   "outputs": [
    {
     "data": {
      "text/plain": [
       "<Axes: ylabel='type'>"
      ]
     },
     "execution_count": 14,
     "metadata": {},
     "output_type": "execute_result"
    },
    {
     "data": {
      "image/png": "[encoded data removed]",
      "text/plain": [
       "<Figure size 640x480 with 1 Axes>"
      ]
     },
     "metadata": {},
     "output_type": "display_data"
    }
   ],
   "source": [
    "df['type'].value_counts().plot(kind='barh')"
   ]
  },
  {
   "cell_type": "code",
   "execution_count": 15,
   "id": "a761254d",
   "metadata": {},
   "outputs": [
    {
     "data": {
      "text/plain": [
       "<Axes: ylabel='binary'>"
      ]
     },
     "execution_count": 15,
     "metadata": {},
     "output_type": "execute_result"
    },
    {
     "data": {
      "image/png": "[encoded data removed]",
      "text/plain": [
       "<Figure size 640x480 with 1 Axes>"
      ]
     },
     "metadata": {},
     "output_type": "display_data"
    }
   ],
   "source": [
    "df['binary'].value_counts().plot(kind='barh')"
   ]
  },
  {
   "cell_type": "code",
   "execution_count": 16,
   "id": "9f7902e9",
   "metadata": {},
   "outputs": [],
   "source": [
    "from tensorflow.keras.preprocessing.image import img_to_array\n",
    "from tensorflow.keras.preprocessing.image import load_img\n",
    "from sklearn.preprocessing import LabelBinarizer\n",
    "#!pip install imutils\n",
    "from imutils import paths\n",
    "from sklearn.utils import shuffle\n",
    "from sklearn.model_selection import train_test_split"
   ]
  },
  {
   "cell_type": "code",
   "execution_count": 17,
   "id": "5c2d868a",
   "metadata": {},
   "outputs": [
    {
     "name": "stdout",
     "output_type": "stream",
     "text": [
      "(550, 224, 224, 3)\n",
      "(550, 5)\n"
     ]
    }
   ],
   "source": [
    "data = []\n",
    "labels = []\n",
    "width,height=224,224\n",
    "\n",
    "imagePaths = list(paths.list_images('C:\\\\Users\\\\HP\\Documents\\\\retina\\\\FINAL\\\\gaussian_filtered_images\\\\dataset_modify'))\n",
    "\n",
    "data = []\n",
    "labels = []\n",
    "\n",
    "for imagePath in imagePaths:\n",
    "    label = imagePath.split(os.path.sep)[-2]   \n",
    "    #image = load_img(imagePath, target_size=(width, height))\n",
    "    image = load_img(imagePath)\n",
    "    image = img_to_array(image)\n",
    "    data.append(image)\n",
    "    labels.append(label)\n",
    "\n",
    "data = np.array(data, dtype=\"float32\")\n",
    "labels = np.array(labels)\n",
    "\n",
    "lb = LabelBinarizer()\n",
    "labels = lb.fit_transform(labels)\n",
    "\n",
    "data, labels = shuffle(data, labels)\n",
    "\n",
    "print(data.shape)\n",
    "print(labels.shape)"
   ]
  },
  {
   "cell_type": "code",
   "execution_count": 18,
   "id": "c78f4866",
   "metadata": {},
   "outputs": [],
   "source": [
    "data = data / 255.0"
   ]
  },
  {
   "cell_type": "code",
   "execution_count": 19,
   "id": "44a97aa2",
   "metadata": {},
   "outputs": [
    {
     "data": {
      "text/plain": [
       "['Mild', 'Moderate', 'NO_Dr', 'Proliferate_DR', 'Severe']"
      ]
     },
     "execution_count": 19,
     "metadata": {},
     "output_type": "execute_result"
    }
   ],
   "source": [
    "path_folder = \"C:\\\\Users\\\\HP\\Documents\\\\retina\\\\FINAL\\\\gaussian_filtered_images\\\\dataset_modify\"\n",
    "class_name = os.listdir(path_folder)\n",
    "class_name"
   ]
  },
  {
   "cell_type": "code",
   "execution_count": 20,
   "id": "f337027d",
   "metadata": {},
   "outputs": [
    {
     "name": "stdout",
     "output_type": "stream",
     "text": [
      "['Mild', 'Moderate', 'NO_Dr', 'Proliferate_DR', 'Severe']\n",
      "Loading Folder -- Mild  The Count of Classes ==>  0\n",
      "Loading Folder -- Moderate  The Count of Classes ==>  1\n",
      "Loading Folder -- NO_Dr  The Count of Classes ==>  2\n",
      "Loading Folder -- Proliferate_DR  The Count of Classes ==>  3\n",
      "Loading Folder -- Severe  The Count of Classes ==>  4\n",
      "---- Done ----------- \n"
     ]
    }
   ],
   "source": [
    "class_name = os.listdir(path_folder)\n",
    "class_name.sort()\n",
    "#class_name = class_name[:4] + class_name[20:23]\n",
    "print(class_name)\n",
    "image_data = []\n",
    "label_data = []\n",
    "count = 0\n",
    "for folder in class_name:\n",
    "    images = os.listdir(path_folder + \"/\" + folder)\n",
    "    print(\"Loading Folder -- {} \" .format(folder), \"The Count of Classes ==> \",count)\n",
    "    for img in images:\n",
    "        image = cv2.imread(path_folder + \"/\" + folder + \"/\" + img)\n",
    "        image = cv2.resize(image, (100, 100))\n",
    "        \n",
    "        image_data.append(image)\n",
    "        label_data.append(count)\n",
    "    count += 1\n",
    "print(\"---- Done ----------- \")"
   ]
  },
  {
   "cell_type": "code",
   "execution_count": 21,
   "id": "cd1dd66c",
   "metadata": {},
   "outputs": [],
   "source": [
    "data = np.array(image_data)\n",
    "data = data.astype(\"float32\")\n",
    "data = data/255.0\n",
    "\n",
    "label = np.array(label_data)"
   ]
  },
  {
   "cell_type": "code",
   "execution_count": 22,
   "id": "1235d050",
   "metadata": {},
   "outputs": [
    {
     "name": "stdout",
     "output_type": "stream",
     "text": [
      "(550, 100, 100, 3)\n"
     ]
    }
   ],
   "source": [
    "print(data.shape)"
   ]
  },
  {
   "cell_type": "code",
   "execution_count": 23,
   "id": "c1d4906b",
   "metadata": {},
   "outputs": [
    {
     "data": {
      "text/plain": [
       "array([1., 0., 0., 0., 0.], dtype=float32)"
      ]
     },
     "execution_count": 23,
     "metadata": {},
     "output_type": "execute_result"
    }
   ],
   "source": [
    "label_num = to_categorical(label, len(class_name))\n",
    "label_num[100]"
   ]
  },
  {
   "cell_type": "code",
   "execution_count": 24,
   "id": "383aafb2",
   "metadata": {},
   "outputs": [],
   "source": [
    "x_img, y_img = shuffle(data, label_num)\n",
    "x_train, x_test, y_train, y_test = train_test_split(x_img, y_img, train_size=0.8)"
   ]
  },
  {
   "cell_type": "code",
   "execution_count": 25,
   "id": "d41002cc",
   "metadata": {},
   "outputs": [
    {
     "data": {
      "text/plain": [
       "((440, 100, 100, 3), (440, 5), (110, 100, 100, 3), (110, 5))"
      ]
     },
     "execution_count": 25,
     "metadata": {},
     "output_type": "execute_result"
    }
   ],
   "source": [
    "x_train.shape, y_train.shape, x_test.shape, y_test.shape"
   ]
  },
  {
   "cell_type": "code",
   "execution_count": null,
   "id": "92503e00",
   "metadata": {},
   "outputs": [],
   "source": [
    "plt.figure(figsize=(10, 10))\n",
    "for i in range(0, 25):\n",
    "    plt.subplot(5, 5, i+1)\n",
    "    plt.xticks([])\n",
    "    plt.yticks([])\n",
    "    plt.imshow(x_train[i])\n",
    "    plt.title(class_name[np.argmax(y_train[i])])"
   ]
  },
  {
   "cell_type": "code",
   "execution_count": 14,
   "id": "a9835d6d",
   "metadata": {},
   "outputs": [
    {
     "name": "stdout",
     "output_type": "stream",
     "text": [
      "Model: \"sequential_1\"\n",
      "_________________________________________________________________\n",
      " Layer (type)                Output Shape              Param #   \n",
      "=================================================================\n",
      " conv2d_4 (Conv2D)           (None, 100, 100, 16)      1216      \n",
      "                                                                 \n",
      " average_pooling2d_3 (Avera  (None, 50, 50, 16)        0         \n",
      " gePooling2D)                                                    \n",
      "                                                                 \n",
      " conv2d_5 (Conv2D)           (None, 50, 50, 32)        8224      \n",
      "                                                                 \n",
      " average_pooling2d_4 (Avera  (None, 25, 25, 32)        0         \n",
      " gePooling2D)                                                    \n",
      "                                                                 \n",
      " conv2d_6 (Conv2D)           (None, 25, 25, 64)        18496     \n",
      "                                                                 \n",
      " average_pooling2d_5 (Avera  (None, 12, 12, 64)        0         \n",
      " gePooling2D)                                                    \n",
      "                                                                 \n",
      " conv2d_7 (Conv2D)           (None, 12, 12, 128)       32896     \n",
      "                                                                 \n",
      " max_pooling2d_1 (MaxPoolin  (None, 6, 6, 128)         0         \n",
      " g2D)                                                            \n",
      "                                                                 \n",
      " flatten_1 (Flatten)         (None, 4608)              0         \n",
      "                                                                 \n",
      " dense_3 (Dense)             (None, 256)               1179904   \n",
      "                                                                 \n",
      " dropout_2 (Dropout)         (None, 256)               0         \n",
      "                                                                 \n",
      " dense_4 (Dense)             (None, 32)                8224      \n",
      "                                                                 \n",
      " dropout_3 (Dropout)         (None, 32)                0         \n",
      "                                                                 \n",
      " dense_5 (Dense)             (None, 5)                 165       \n",
      "                                                                 \n",
      "=================================================================\n",
      "Total params: 1249125 (4.77 MB)\n",
      "Trainable params: 1249125 (4.77 MB)\n",
      "Non-trainable params: 0 (0.00 Byte)\n",
      "_________________________________________________________________\n"
     ]
    }
   ],
   "source": [
    "model = k.models.Sequential()\n",
    "\n",
    "model.add(k.layers.Conv2D(16, (5, 5), activation=\"relu\", input_shape=(100, 100, 3), padding=\"same\"))\n",
    "model.add(k.layers.AveragePooling2D((2, 2)))\n",
    "\n",
    "model.add(k.layers.Conv2D(32, (4, 4), activation=\"relu\",  padding=\"same\"))\n",
    "# model.add(k.layers.BatchNormalization())\n",
    "model.add(k.layers.AveragePooling2D((2, 2)))\n",
    "\n",
    "\n",
    "model.add(k.layers.Conv2D(64, (3, 3), activation=\"relu\", padding=\"same\"))\n",
    "model.add(k.layers.AveragePooling2D((2, 2)))\n",
    "\n",
    "model.add(k.layers.Conv2D(128, (2, 2), activation=\"relu\", padding=\"same\"))\n",
    "model.add(k.layers.MaxPool2D((2, 2)))\n",
    "\n",
    "model.add(k.layers.Flatten())\n",
    "\n",
    "model.add(k.layers.Dense(256, activation=\"relu\"))\n",
    "# model.add(k.layers.BatchNormalization())\n",
    "model.add(k.layers.Dropout(0.5))\n",
    "\n",
    "model.add(k.layers.Dense(32, activation=\"relu\"))\n",
    "model.add(k.layers.Dropout(0.2))\n",
    "\n",
    "model.add(k.layers.Dense(5, activation=\"softmax\"))\n",
    "\n",
    "model.compile(optimizer=\"adam\", loss=k.losses.CategoricalCrossentropy(), metrics=[\"accuracy\"])\n",
    "\n",
    "model.summary()"
   ]
  },
  {
   "cell_type": "code",
   "execution_count": 79,
   "id": "12a70974",
   "metadata": {},
   "outputs": [
    {
     "name": "stdout",
     "output_type": "stream",
     "text": [
      "Epoch 1/5\n",
      "14/14 [==============================] - 16s 1s/step - loss: 0.1526 - accuracy: 0.9409 - val_loss: 6.1244 - val_accuracy: 0.4091\n",
      "Epoch 2/5\n",
      "14/14 [==============================] - 18s 1s/step - loss: 0.1096 - accuracy: 0.9477 - val_loss: 6.1805 - val_accuracy: 0.4455\n",
      "Epoch 3/5\n",
      "14/14 [==============================] - 26s 2s/step - loss: 0.1032 - accuracy: 0.9682 - val_loss: 5.6655 - val_accuracy: 0.4364\n",
      "Epoch 4/5\n",
      "14/14 [==============================] - 30s 2s/step - loss: 0.0943 - accuracy: 0.9659 - val_loss: 5.4367 - val_accuracy: 0.4273\n",
      "Epoch 5/5\n",
      "14/14 [==============================] - 38s 3s/step - loss: 0.0518 - accuracy: 0.9773 - val_loss: 5.7101 - val_accuracy: 0.4273\n"
     ]
    }
   ],
   "source": [
    "history = model.fit(x_train, y_train, epochs=150, validation_data=(x_test, y_test), validation_split=0.4)"
   ]
  },
  {
   "cell_type": "code",
   "execution_count": 80,
   "id": "0a1b6181",
   "metadata": {},
   "outputs": [],
   "source": [
    "#model.save('FINAL_model2.h5')\n",
    "#print('Model Saved')"
   ]
  },
  {
   "cell_type": "code",
   "execution_count": 86,
   "id": "24b91ac6",
   "metadata": {},
   "outputs": [
    {
     "name": "stdout",
     "output_type": "stream",
     "text": [
      "1/1 [==============================] - 1s 610ms/step\n",
      "Type Of DR ==> Severe\n"
     ]
    },
    {
     "data": {
      "image/png": "[encoded data removed]",
      "text/plain": [
       "<Figure size 640x480 with 1 Axes>"
      ]
     },
     "metadata": {},
     "output_type": "display_data"
    }
   ],
   "source": [
    "from tensorflow.keras.models import load_model\n",
    "image = cv2.imread('C:\\\\Users\\\\HP\\\\Documents\\\\retina\\\\FINAL\\\\gaussian_filtered_images\\\\UPLOAD\\\\51.png')\n",
    "image = cv2.resize(image, (100, 100))\n",
    "new_image = np.reshape(image, [1, 100, 100, 3])\n",
    "model=load_model('FINAL_model2.h5')\n",
    "prediction = model.predict(new_image)[0]\n",
    "new_prediction = class_name[np.argmax(prediction)]\n",
    "# print(\"The Prediction is ==> \", new_prediction1)\n",
    "\n",
    "print(\"Type Of DR ==>\", new_prediction)\n",
    "\n",
    "# ================== Show image And Label Prediction =================================\n",
    "\n",
    "image = cv2.cvtColor(image, cv2.COLOR_BGR2RGB)\n",
    "plt.imshow(image)\n",
    "plt.title(new_prediction)\n",
    "plt.show()"
   ]
  },
  {
   "cell_type": "code",
   "execution_count": null,
   "id": "92c4b5b5",
   "metadata": {},
   "outputs": [],
   "source": []
  }
 ],
 "metadata": {
  "kernelspec": {
   "display_name": "Python 3 (ipykernel)",
   "language": "python",
   "name": "python3"
  },
  "language_info": {
   "codemirror_mode": {
    "name": "ipython",
    "version": 3
   },
   "file_extension": ".py",
   "mimetype": "text/x-python",
   "name": "python",
   "nbconvert_exporter": "python",
   "pygments_lexer": "ipython3",
   "version": "3.11.5"
  }
 },
 "nbformat": 4,
 "nbformat_minor": 5
}
